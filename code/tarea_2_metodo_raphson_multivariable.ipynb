{
 "cells": [
  {
   "cell_type": "markdown",
   "id": "9852b016",
   "metadata": {},
   "source": [
    "<br>\n",
    "<br>\n",
    "\n",
    "###  InstitutoTecnológico y de Estudios Superiores de Occidente ###\n",
    "###  Maestría Ciencia de Datos  ###\n",
    "###  Investigación, Desarrollo e Innovación II  ###\n",
    "###  Tarea 2: Gradiente descendente  ###\n",
    "<br>\n",
    "\n",
    "* * *\n",
    "\n",
    "Estudiante: Daniel Nuño <br>\n",
    "Profesor: Fernando Becerra <br>\n",
    "25 Septiembre 2021 <br>"
   ]
  },
  {
   "cell_type": "markdown",
   "id": "36a8a2af",
   "metadata": {},
   "source": [
    "<div style=\"page-break-after: always;\"></div>\n",
    "<br>\n",
    "<br>\n",
    "\n",
    "Realice código en Python que, recibiendo un sistema de n  ecuaciones no lineales $ fi(x1,...,xn)=0 $, un valor inicial $ X0 $  y una exactitud (error) dado $ E $ , encuentre (si existe) mediante el método de Newton-Raphson una aproximación de exactitud menor a $ E $\n",
    "\n",
    "  para una solución del sistema. Asegúrese que cuenta el número de iteraciones realizadas.\n",
    "\n",
    "Use su código para resolver los siguientes ejercicios (en todos los casos indique el(los) valor(es) inicial(es) que utilizó y el número de iteraciones que fueron necesarias para alcanzar la respuesta).\n",
    "\n",
    "Escriba sus respuestas con 5 cifras significativas.\n",
    "\n",
    "Encuentre todas las soluciones exactas dentro de $ 10e−4 $:\n",
    "\n",
    "### Par de funciones 1:\n",
    "$$ f(x , y) = x^2 + y - 1 $$\n",
    "$$ g(x , y) = x - 2y^2 $$"
   ]
  },
  {
   "cell_type": "code",
   "execution_count": 1,
   "id": "885a3293",
   "metadata": {},
   "outputs": [
    {
     "name": "stderr",
     "output_type": "stream",
     "text": [
      "C:\\Users\\nuno\\AppData\\Local\\Continuum\\anaconda3\\lib\\site-packages\\IPython\\lib\\latextools.py:126: MatplotlibDeprecationWarning: \n",
      "The to_png function was deprecated in Matplotlib 3.4 and will be removed two minor releases later. Use mathtext.math_to_image instead.\n",
      "  mt.to_png(f, s, fontsize=12, dpi=dpi, color=color)\n",
      "C:\\Users\\nuno\\AppData\\Local\\Continuum\\anaconda3\\lib\\site-packages\\IPython\\lib\\latextools.py:126: MatplotlibDeprecationWarning: \n",
      "The to_rgba function was deprecated in Matplotlib 3.4 and will be removed two minor releases later. Use mathtext.math_to_image instead.\n",
      "  mt.to_png(f, s, fontsize=12, dpi=dpi, color=color)\n",
      "C:\\Users\\nuno\\AppData\\Local\\Continuum\\anaconda3\\lib\\site-packages\\IPython\\lib\\latextools.py:126: MatplotlibDeprecationWarning: \n",
      "The to_mask function was deprecated in Matplotlib 3.4 and will be removed two minor releases later. Use mathtext.math_to_image instead.\n",
      "  mt.to_png(f, s, fontsize=12, dpi=dpi, color=color)\n",
      "C:\\Users\\nuno\\AppData\\Local\\Continuum\\anaconda3\\lib\\site-packages\\IPython\\lib\\latextools.py:126: MatplotlibDeprecationWarning: \n",
      "The MathtextBackendBitmap class was deprecated in Matplotlib 3.4 and will be removed two minor releases later. Use mathtext.math_to_image instead.\n",
      "  mt.to_png(f, s, fontsize=12, dpi=dpi, color=color)\n"
     ]
    },
    {
     "data": {
      "image/png": "[encoded data removed]",
      "text/latex": [
       "$\\displaystyle x^{2} + y - 1$"
      ],
      "text/plain": [
       " 2        \n",
       "x  + y - 1"
      ]
     },
     "execution_count": 1,
     "metadata": {},
     "output_type": "execute_result"
    }
   ],
   "source": [
    "import sympy as sp #start sympy\n",
    "sp.init_printing()\n",
    "\n",
    "x, y = sp.symbols('x y')\n",
    "\n",
    "f = x**2 + y - 1\n",
    "df_dx = f.diff(x,1)\n",
    "df_dy = f.diff(y,1)\n",
    "f"
   ]
  },
  {
   "cell_type": "code",
   "execution_count": 2,
   "id": "459a7c3e",
   "metadata": {},
   "outputs": [
    {
     "data": {
      "image/png": "[encoded data removed]",
      "text/latex": [
       "$\\displaystyle x - 2 y^{2}$"
      ],
      "text/plain": [
       "       2\n",
       "x - 2⋅y "
      ]
     },
     "execution_count": 2,
     "metadata": {},
     "output_type": "execute_result"
    }
   ],
   "source": [
    "g = x - 2*y**2\n",
    "dg_dx = g.diff(x,1)\n",
    "dg_dy = g.diff(y,1)\n",
    "g"
   ]
  },
  {
   "cell_type": "code",
   "execution_count": 3,
   "id": "5781396a",
   "metadata": {
    "scrolled": false
   },
   "outputs": [
    {
     "data": {
      "image/png": "[encoded data removed]",
      "text/plain": [
       "<Figure size 640x480 with 1 Axes>"
      ]
     },
     "metadata": {},
     "output_type": "display_data"
    }
   ],
   "source": [
    "plot_f = sp.plot_implicit(sp.Eq(f,0), x_var=(x, -2, 2), y_var=(y, -2,2), show=False)\n",
    "plot_g = sp.plot_implicit(sp.Eq(g,0), x_var=(x, -2, 2), y_var=(y, -2,2), show=False)\n",
    "plot_f.append(plot_g[0])\n",
    "plot_f.show()"
   ]
  },
  {
   "cell_type": "markdown",
   "id": "85f53961",
   "metadata": {},
   "source": [
    "Vemos que la primera intersección esta cerca de x = 0.7 y y = 0.5."
   ]
  },
  {
   "cell_type": "code",
   "execution_count": 4,
   "id": "43212193",
   "metadata": {},
   "outputs": [
    {
     "name": "stdout",
     "output_type": "stream",
     "text": [
      "El número de iteraciones fue: 3\n",
      "Usando x inicial: 1.0000\n",
      "Usando y inicial: 1.0000\n",
      "x final es: 0.65425\n",
      "y final es: 0.57197\n"
     ]
    }
   ],
   "source": [
    "exactitud = 10e-4\n",
    "iteraciones = 0\n",
    "norma_dos = 1\n",
    "x0 = 1 #x inicial\n",
    "y0 = 1 #y inicial\n",
    "X0 = sp.Matrix([x0, y0]) #x e y\n",
    "F = sp.Matrix([f,g]) #matrix F(x,y) no evaluada\n",
    "J_inverse = F.jacobian([x,y]).inv() #matrix jacobiana inversa no evaluada\n",
    "F_xy_0 = sp.Matrix([f.evalf(subs={x: x0, y: y0}),\n",
    "                g.evalf(subs={x: x0, y: y0})]) #matrix F(x,y) evaluada en X0]\n",
    "list_X = [sp.N(X0, 5)]\n",
    "list_F = [sp.N(F_xy_0, 5)]\n",
    "\n",
    "while norma_dos >= exactitud:\n",
    "    iteraciones += 1\n",
    "    J_inverse_xy_0 = J_inverse.evalf(subs={x: x0, y: y0}) #matrix jacobiana inversa evaluada en X0\n",
    "\n",
    "    X1 = list_X[-1] - J_inverse_xy_0*list_F[-1]\n",
    "    x1 = X1[0]\n",
    "    y1 = X1[1]\n",
    "    F_xy_1 = F.evalf(subs={x: x1, y: y1}) #matrix F(x,y) evaluada en X1\n",
    "    \n",
    "    norma_dos = sp.N(( F_xy_1[0]**2 + F_xy_1[1]**2 )**(1/2), 5)\n",
    "    list_X.append(sp.N(X1,5))\n",
    "    list_F.append(sp.N(F_xy_1, 5))\n",
    "    x0 = x1 #new x\n",
    "    y0 = y1 #new y\n",
    "\n",
    "print('El número de iteraciones fue: ' + str(iteraciones))\n",
    "print('Usando x inicial: ' + str(list_X[0][0]))\n",
    "print('Usando y inicial: ' + str(list_X[0][1]))\n",
    "print('x final es: ' + str(list_X[-1][0]))\n",
    "print('y final es: ' + str(list_X[-1][1]))"
   ]
  },
  {
   "cell_type": "markdown",
   "id": "7518b2e7",
   "metadata": {},
   "source": [
    "Vemos que la primera intersección esta cerca de x = 1.5 e y = -1."
   ]
  },
  {
   "cell_type": "code",
   "execution_count": 5,
   "id": "f72e585e",
   "metadata": {},
   "outputs": [
    {
     "name": "stdout",
     "output_type": "stream",
     "text": [
      "El número de iteraciones fue: 2\n",
      "Usando x inicial: 1.5000\n",
      "Usando y inicial: -1.0000\n",
      "x final es: 1.3498\n",
      "y final es: -0.82174\n"
     ]
    }
   ],
   "source": [
    "exactitud = 10e-4\n",
    "iteraciones = 0\n",
    "norma_dos = 1\n",
    "x0 = 1.5 #x inicial\n",
    "y0 = -1 #y inicial\n",
    "X0 = sp.Matrix([x0, y0]) #x e y\n",
    "F = sp.Matrix([f,g]) #matrix F(x,y) no evaluada\n",
    "J_inverse = F.jacobian([x,y]).inv() #matrix jacobiana inversa no evaluada\n",
    "F_xy_0 = sp.Matrix([f.evalf(subs={x: x0, y: y0}),\n",
    "                g.evalf(subs={x: x0, y: y0})]) #matrix F(x,y) evaluada en X0]\n",
    "list_X = [sp.N(X0, 5)]\n",
    "list_F = [sp.N(F_xy_0, 5)]\n",
    "\n",
    "while norma_dos >= exactitud:\n",
    "    iteraciones += 1\n",
    "    J_inverse_xy_0 = J_inverse.evalf(subs={x: x0, y: y0}) #matrix jacobiana inversa evaluada en X0\n",
    "\n",
    "    X1 = list_X[-1] - J_inverse_xy_0*list_F[-1]\n",
    "    x1 = X1[0]\n",
    "    y1 = X1[1]\n",
    "    F_xy_1 = F.evalf(subs={x: x1, y: y1}) #matrix F(x,y) evaluada en X1\n",
    "    \n",
    "    norma_dos = sp.N(( F_xy_1[0]**2 + F_xy_1[1]**2 )**(1/2), 5)\n",
    "    list_X.append(sp.N(X1,5))\n",
    "    list_F.append(sp.N(F_xy_1, 5))\n",
    "    x0 = x1 #new x\n",
    "    y0 = y1 #new y\n",
    "\n",
    "print('El número de iteraciones fue: ' + str(iteraciones))\n",
    "print('Usando x inicial: ' + str(list_X[0][0]))\n",
    "print('Usando y inicial: ' + str(list_X[0][1]))\n",
    "print('x final es: ' + str(list_X[-1][0]))\n",
    "print('y final es: ' + str(list_X[-1][1]))"
   ]
  },
  {
   "cell_type": "markdown",
   "id": "423d70d6",
   "metadata": {},
   "source": [
    "### Par de funciones 2:\n",
    "$$ f(x , y) = x^2 -10x + y^2 +5 $$\n",
    "$$ g(x , y) = xy^2 + x - 10y + 8 $$"
   ]
  },
  {
   "cell_type": "code",
   "execution_count": 6,
   "id": "08e03f55",
   "metadata": {},
   "outputs": [
    {
     "name": "stderr",
     "output_type": "stream",
     "text": [
      "C:\\Users\\nuno\\AppData\\Local\\Continuum\\anaconda3\\lib\\site-packages\\IPython\\lib\\latextools.py:126: MatplotlibDeprecationWarning: \n",
      "The to_png function was deprecated in Matplotlib 3.4 and will be removed two minor releases later. Use mathtext.math_to_image instead.\n",
      "  mt.to_png(f, s, fontsize=12, dpi=dpi, color=color)\n",
      "C:\\Users\\nuno\\AppData\\Local\\Continuum\\anaconda3\\lib\\site-packages\\IPython\\lib\\latextools.py:126: MatplotlibDeprecationWarning: \n",
      "The to_rgba function was deprecated in Matplotlib 3.4 and will be removed two minor releases later. Use mathtext.math_to_image instead.\n",
      "  mt.to_png(f, s, fontsize=12, dpi=dpi, color=color)\n",
      "C:\\Users\\nuno\\AppData\\Local\\Continuum\\anaconda3\\lib\\site-packages\\IPython\\lib\\latextools.py:126: MatplotlibDeprecationWarning: \n",
      "The to_mask function was deprecated in Matplotlib 3.4 and will be removed two minor releases later. Use mathtext.math_to_image instead.\n",
      "  mt.to_png(f, s, fontsize=12, dpi=dpi, color=color)\n",
      "C:\\Users\\nuno\\AppData\\Local\\Continuum\\anaconda3\\lib\\site-packages\\IPython\\lib\\latextools.py:126: MatplotlibDeprecationWarning: \n",
      "The MathtextBackendBitmap class was deprecated in Matplotlib 3.4 and will be removed two minor releases later. Use mathtext.math_to_image instead.\n",
      "  mt.to_png(f, s, fontsize=12, dpi=dpi, color=color)\n"
     ]
    },
    {
     "data": {
      "image/png": "[encoded data removed]",
      "text/latex": [
       "$\\displaystyle x^{2} + 10 x + y^{2} + 5$"
      ],
      "text/plain": [
       " 2           2    \n",
       "x  + 10⋅x + y  + 5"
      ]
     },
     "execution_count": 6,
     "metadata": {},
     "output_type": "execute_result"
    }
   ],
   "source": [
    "#asignar funcion f(x,y) y asegurar que esta correcta\n",
    "f = x**2 +10*x + y**2 + 5\n",
    "f"
   ]
  },
  {
   "cell_type": "code",
   "execution_count": 7,
   "id": "d233c035",
   "metadata": {},
   "outputs": [
    {
     "data": {
      "image/png": "[encoded data removed]",
      "text/latex": [
       "$\\displaystyle x y^{2} + x - 10 y + 8$"
      ],
      "text/plain": [
       "   2               \n",
       "x⋅y  + x - 10⋅y + 8"
      ]
     },
     "execution_count": 7,
     "metadata": {},
     "output_type": "execute_result"
    }
   ],
   "source": [
    "#asignar funcion g(x,y) y asegurar que esta correcta\n",
    "g = x*y**2 + x - 10*y + 8\n",
    "g"
   ]
  },
  {
   "cell_type": "code",
   "execution_count": 8,
   "id": "80543279",
   "metadata": {},
   "outputs": [
    {
     "data": {
      "image/png": "[encoded data removed]",
      "text/plain": [
       "<Figure size 640x480 with 1 Axes>"
      ]
     },
     "metadata": {},
     "output_type": "display_data"
    }
   ],
   "source": [
    "# grafica de f y g\n",
    "plot_f = sp.plot_implicit(sp.Eq(f,0), x_var=(x, -15, 5), y_var=(y, -10,10), show=False)\n",
    "plot_g = sp.plot_implicit(sp.Eq(g,0), x_var=(x, -15, 5), y_var=(y, -10,10), show=False)\n",
    "plot_f.append(plot_g[0])\n",
    "plot_f.show()"
   ]
  },
  {
   "cell_type": "markdown",
   "id": "ffd9422c",
   "metadata": {},
   "source": [
    "Vemos que la primera intersección esta cerca de x = .5 y y = .5."
   ]
  },
  {
   "cell_type": "code",
   "execution_count": 9,
   "id": "31342e38",
   "metadata": {},
   "outputs": [
    {
     "name": "stdout",
     "output_type": "stream",
     "text": [
      "El número de iteraciones fue: 3\n",
      "Usando x inicial: 0.50000\n",
      "Usando y inicial: 0.50000\n",
      "x final es: -0.58489\n",
      "y final es: 0.71187\n"
     ]
    }
   ],
   "source": [
    "exactitud = 10e-4\n",
    "iteraciones = 0\n",
    "norma_dos = 1\n",
    "x0 = 0.5 #x inicial\n",
    "y0 = 0.5 #y inicial\n",
    "X0 = sp.Matrix([x0, y0]) #x e y\n",
    "F = sp.Matrix([f,g]) #matrix F(x,y) no evaluada\n",
    "J_inverse = F.jacobian([x,y]).inv() #matrix jacobiana inversa no evaluada\n",
    "F_xy_0 = sp.Matrix([f.evalf(subs={x: x0, y: y0}),\n",
    "                g.evalf(subs={x: x0, y: y0})]) #matrix F(x,y) evaluada en X0]\n",
    "list_X = [sp.N(X0, 5)]\n",
    "list_F = [sp.N(F_xy_0, 5)]\n",
    "\n",
    "while norma_dos >= exactitud:\n",
    "    iteraciones += 1\n",
    "    J_inverse_xy_0 = J_inverse.evalf(subs={x: x0, y: y0}) #matrix jacobiana inversa evaluada en X0\n",
    "\n",
    "    X1 = list_X[-1] - J_inverse_xy_0*list_F[-1]\n",
    "    x1 = X1[0]\n",
    "    y1 = X1[1]\n",
    "    F_xy_1 = F.evalf(subs={x: x1, y: y1}) #matrix F(x,y) evaluada en X1\n",
    "    \n",
    "    norma_dos = sp.N(( F_xy_1[0]**2 + F_xy_1[1]**2 )**(1/2), 5)\n",
    "    list_X.append(sp.N(X1,5))\n",
    "    list_F.append(sp.N(F_xy_1, 5))\n",
    "    x0 = x1 #new x\n",
    "    y0 = y1 #new y\n",
    "\n",
    "print('El número de iteraciones fue: ' + str(iteraciones))\n",
    "print('Usando x inicial: ' + str(list_X[0][0]))\n",
    "print('Usando y inicial: ' + str(list_X[0][1]))\n",
    "print('x final es: ' + str(list_X[-1][0]))\n",
    "print('y final es: ' + str(list_X[-1][1]))"
   ]
  },
  {
   "cell_type": "markdown",
   "id": "611279eb",
   "metadata": {},
   "source": [
    "Vemos que la segunda intersección esta cerca de x = -3 . y y = 33."
   ]
  },
  {
   "cell_type": "code",
   "execution_count": 10,
   "id": "da9431f0",
   "metadata": {},
   "outputs": [
    {
     "name": "stdout",
     "output_type": "stream",
     "text": [
      "El número de iteraciones fue: 3\n",
      "Usando x inicial: -3.0000\n",
      "Usando y inicial: -3.0000\n",
      "x final es: -2.8732\n",
      "y final es: -3.9340\n"
     ]
    }
   ],
   "source": [
    "exactitud = 10e-4\n",
    "iteraciones = 0\n",
    "norma_dos = 1\n",
    "x0 = -3 #x inicial\n",
    "y0 = -3 #y inicial\n",
    "X0 = sp.Matrix([x0, y0]) #x e y\n",
    "F = sp.Matrix([f,g]) #matrix F(x,y) no evaluada\n",
    "J_inverse = F.jacobian([x,y]).inv() #matrix jacobiana inversa no evaluada\n",
    "F_xy_0 = sp.Matrix([f.evalf(subs={x: x0, y: y0}),\n",
    "                g.evalf(subs={x: x0, y: y0})]) #matrix F(x,y) evaluada en X0]\n",
    "list_X = [sp.N(X0, 5)]\n",
    "list_F = [sp.N(F_xy_0, 5)]\n",
    "\n",
    "while norma_dos >= exactitud:\n",
    "    iteraciones += 1\n",
    "    J_inverse_xy_0 = J_inverse.evalf(subs={x: x0, y: y0}) #matrix jacobiana inversa evaluada en X0\n",
    "\n",
    "    X1 = list_X[-1] - J_inverse_xy_0*list_F[-1]\n",
    "    x1 = X1[0]\n",
    "    y1 = X1[1]\n",
    "    F_xy_1 = F.evalf(subs={x: x1, y: y1}) #matrix F(x,y) evaluada en X1\n",
    "    \n",
    "    norma_dos = sp.N(( F_xy_1[0]**2 + F_xy_1[1]**2 )**(1/2), 5)\n",
    "    list_X.append(sp.N(X1,5))\n",
    "    list_F.append(sp.N(F_xy_1, 5))\n",
    "    x0 = x1 #new x\n",
    "    y0 = y1 #new y\n",
    "\n",
    "print('El número de iteraciones fue: ' + str(iteraciones))\n",
    "print('Usando x inicial: ' + str(list_X[0][0]))\n",
    "print('Usando y inicial: ' + str(list_X[0][1]))\n",
    "print('x final es: ' + str(list_X[-1][0]))\n",
    "print('y final es: ' + str(list_X[-1][1]))"
   ]
  },
  {
   "cell_type": "markdown",
   "id": "a450b797",
   "metadata": {},
   "source": [
    "Vemos que la tercera intersección esta cerca de x = -9 . y y = 0."
   ]
  },
  {
   "cell_type": "code",
   "execution_count": 11,
   "id": "0f019ea0",
   "metadata": {},
   "outputs": [
    {
     "name": "stdout",
     "output_type": "stream",
     "text": [
      "El número de iteraciones fue: 3\n",
      "Usando x inicial: -9.0000\n",
      "Usando y inicial: 0\n",
      "x final es: -9.4687\n",
      "y final es: -0.17629\n"
     ]
    }
   ],
   "source": [
    "exactitud = 10e-4\n",
    "iteraciones = 0\n",
    "norma_dos = 1\n",
    "x0 = -9 #x inicial\n",
    "y0 = 0 #y inicial\n",
    "X0 = sp.Matrix([x0, y0]) #x e y\n",
    "F = sp.Matrix([f,g]) #matrix F(x,y) no evaluada\n",
    "J_inverse = F.jacobian([x,y]).inv() #matrix jacobiana inversa no evaluada\n",
    "F_xy_0 = sp.Matrix([f.evalf(subs={x: x0, y: y0}),\n",
    "                g.evalf(subs={x: x0, y: y0})]) #matrix F(x,y) evaluada en X0]\n",
    "list_X = [sp.N(X0, 5)]\n",
    "list_F = [sp.N(F_xy_0, 5)]\n",
    "\n",
    "while norma_dos >= exactitud:\n",
    "    iteraciones += 1\n",
    "    J_inverse_xy_0 = J_inverse.evalf(subs={x: x0, y: y0}) #matrix jacobiana inversa evaluada en X0\n",
    "\n",
    "    X1 = list_X[-1] - J_inverse_xy_0*list_F[-1]\n",
    "    x1 = X1[0]\n",
    "    y1 = X1[1]\n",
    "    F_xy_1 = F.evalf(subs={x: x1, y: y1}) #matrix F(x,y) evaluada en X1\n",
    "    \n",
    "    norma_dos = sp.N(( F_xy_1[0]**2 + F_xy_1[1]**2 )**(1/2), 5)\n",
    "    list_X.append(sp.N(X1,5))\n",
    "    list_F.append(sp.N(F_xy_1, 5))\n",
    "    x0 = x1 #new x\n",
    "    y0 = y1 #new y\n",
    "\n",
    "print('El número de iteraciones fue: ' + str(iteraciones))\n",
    "print('Usando x inicial: ' + str(list_X[0][0]))\n",
    "print('Usando y inicial: ' + str(list_X[0][1]))\n",
    "print('x final es: ' + str(list_X[-1][0]))\n",
    "print('y final es: ' + str(list_X[-1][1]))"
   ]
  },
  {
   "cell_type": "markdown",
   "id": "76a9a4a9",
   "metadata": {},
   "source": [
    "Vemos que la cuarta intersección esta cerca de x = -9 . y y = -2."
   ]
  },
  {
   "cell_type": "code",
   "execution_count": 12,
   "id": "29278108",
   "metadata": {},
   "outputs": [
    {
     "name": "stdout",
     "output_type": "stream",
     "text": [
      "El número de iteraciones fue: 4\n",
      "Usando x inicial: -9.0000\n",
      "Usando y inicial: -2.0000\n",
      "x final es: -9.3800\n",
      "y final es: -0.90334\n"
     ]
    }
   ],
   "source": [
    "exactitud = 10e-4\n",
    "iteraciones = 0\n",
    "norma_dos = 1\n",
    "x0 = -9 #x inicial\n",
    "y0 = -2 #y inicial\n",
    "X0 = sp.Matrix([x0, y0]) #x e y\n",
    "F = sp.Matrix([f,g]) #matrix F(x,y) no evaluada\n",
    "J_inverse = F.jacobian([x,y]).inv() #matrix jacobiana inversa no evaluada\n",
    "F_xy_0 = sp.Matrix([f.evalf(subs={x: x0, y: y0}),\n",
    "                g.evalf(subs={x: x0, y: y0})]) #matrix F(x,y) evaluada en X0]\n",
    "list_X = [sp.N(X0, 5)]\n",
    "list_F = [sp.N(F_xy_0, 5)]\n",
    "\n",
    "while norma_dos >= exactitud:\n",
    "    iteraciones += 1\n",
    "    J_inverse_xy_0 = J_inverse.evalf(subs={x: x0, y: y0}) #matrix jacobiana inversa evaluada en X0\n",
    "\n",
    "    X1 = list_X[-1] - J_inverse_xy_0*list_F[-1]\n",
    "    x1 = X1[0]\n",
    "    y1 = X1[1]\n",
    "    F_xy_1 = F.evalf(subs={x: x1, y: y1}) #matrix F(x,y) evaluada en X1\n",
    "    \n",
    "    norma_dos = sp.N(( F_xy_1[0]**2 + F_xy_1[1]**2 )**(1/2), 5)\n",
    "    list_X.append(sp.N(X1,5))\n",
    "    list_F.append(sp.N(F_xy_1, 5))\n",
    "    x0 = x1 #new x\n",
    "    y0 = y1 #new y\n",
    "\n",
    "print('El número de iteraciones fue: ' + str(iteraciones))\n",
    "print('Usando x inicial: ' + str(list_X[0][0]))\n",
    "print('Usando y inicial: ' + str(list_X[0][1]))\n",
    "print('x final es: ' + str(list_X[-1][0]))\n",
    "print('y final es: ' + str(list_X[-1][1]))"
   ]
  },
  {
   "cell_type": "markdown",
   "id": "c08cd4b2",
   "metadata": {},
   "source": [
    "### Par de funciones 3:\n",
    "$$ f(x , y) = x sin(y) - 1 $$\n",
    "$$ g(x , y) = x^2 + y^2 - 4 $$"
   ]
  },
  {
   "cell_type": "code",
   "execution_count": 13,
   "id": "6084ea79",
   "metadata": {},
   "outputs": [
    {
     "data": {
      "image/png": "[encoded data removed]",
      "text/latex": [
       "$\\displaystyle x \\sin{\\left(y \\right)} - 1$"
      ],
      "text/plain": [
       "x⋅sin(y) - 1"
      ]
     },
     "execution_count": 13,
     "metadata": {},
     "output_type": "execute_result"
    }
   ],
   "source": [
    "#asignar funcion f(x,y) y asegurar que esta correcta\n",
    "f =x*sp.sin(y) -1\n",
    "f"
   ]
  },
  {
   "cell_type": "code",
   "execution_count": 14,
   "id": "abb0c351",
   "metadata": {},
   "outputs": [
    {
     "data": {
      "image/png": "[encoded data removed]",
      "text/latex": [
       "$\\displaystyle x^{2} + y^{2} - 4$"
      ],
      "text/plain": [
       " 2    2    \n",
       "x  + y  - 4"
      ]
     },
     "execution_count": 14,
     "metadata": {},
     "output_type": "execute_result"
    }
   ],
   "source": [
    "#asignar funcion g(x,y) y asegurar que esta correcta\n",
    "g = x**2 + y**2 -4\n",
    "g"
   ]
  },
  {
   "cell_type": "code",
   "execution_count": 15,
   "id": "0633d7e7",
   "metadata": {},
   "outputs": [
    {
     "data": {
      "image/png": "[encoded data removed]",
      "text/plain": [
       "<Figure size 640x480 with 1 Axes>"
      ]
     },
     "metadata": {},
     "output_type": "display_data"
    }
   ],
   "source": [
    "# grafica de f y g\n",
    "plot_f = sp.plot_implicit(sp.Eq(f,0), x_var=(x, -10, 10), y_var=(y, -10,10), show=False)\n",
    "plot_g = sp.plot_implicit(sp.Eq(g,0), x_var=(x, -10, 10), y_var=(y, -10,10), show=False)\n",
    "plot_f.append(plot_g[0])\n",
    "plot_f.show()"
   ]
  },
  {
   "cell_type": "markdown",
   "id": "03b86896",
   "metadata": {},
   "source": [
    "Vemos que la primera intersección esta cerca de x = 2 . y y = 0."
   ]
  },
  {
   "cell_type": "code",
   "execution_count": 16,
   "id": "2986c9c4",
   "metadata": {},
   "outputs": [
    {
     "name": "stdout",
     "output_type": "stream",
     "text": [
      "El número de iteraciones fue: 3\n",
      "Usando x inicial: 2.0000\n",
      "Usando y inicial: 0\n",
      "x final es: 1.9239\n",
      "y final es: 0.54659\n"
     ]
    }
   ],
   "source": [
    "exactitud = 10e-4\n",
    "iteraciones = 0\n",
    "norma_dos = 1\n",
    "x0 = 2 #x inicial\n",
    "y0 = 0 #y inicial\n",
    "X0 = sp.Matrix([x0, y0]) #x e y\n",
    "F = sp.Matrix([f,g]) #matrix F(x,y) no evaluada\n",
    "J_inverse = F.jacobian([x,y]).inv() #matrix jacobiana inversa no evaluada\n",
    "F_xy_0 = sp.Matrix([f.evalf(subs={x: x0, y: y0}),\n",
    "                g.evalf(subs={x: x0, y: y0})]) #matrix F(x,y) evaluada en X0]\n",
    "list_X = [sp.N(X0, 5)]\n",
    "list_F = [sp.N(F_xy_0, 5)]\n",
    "\n",
    "while norma_dos >= exactitud:\n",
    "    iteraciones += 1\n",
    "    J_inverse_xy_0 = J_inverse.evalf(subs={x: x0, y: y0}) #matrix jacobiana inversa evaluada en X0\n",
    "\n",
    "    X1 = list_X[-1] - J_inverse_xy_0*list_F[-1]\n",
    "    x1 = X1[0]\n",
    "    y1 = X1[1]\n",
    "    F_xy_1 = F.evalf(subs={x: x1, y: y1}) #matrix F(x,y) evaluada en X1\n",
    "    \n",
    "    norma_dos = sp.N(( F_xy_1[0]**2 + F_xy_1[1]**2 )**(1/2), 5)\n",
    "    list_X.append(sp.N(X1,5))\n",
    "    list_F.append(sp.N(F_xy_1, 5))\n",
    "    x0 = x1 #new x\n",
    "    y0 = y1 #new y\n",
    "\n",
    "print('El número de iteraciones fue: ' + str(iteraciones))\n",
    "print('Usando x inicial: ' + str(list_X[0][0]))\n",
    "print('Usando y inicial: ' + str(list_X[0][1]))\n",
    "print('x final es: ' + str(list_X[-1][0]))\n",
    "print('y final es: ' + str(list_X[-1][1]))"
   ]
  },
  {
   "cell_type": "markdown",
   "id": "f0d96e9f",
   "metadata": {},
   "source": [
    "Vemos que la segunda intersección esta cerca de x = 1 . y y = 2."
   ]
  },
  {
   "cell_type": "code",
   "execution_count": 17,
   "id": "e9ce9232",
   "metadata": {},
   "outputs": [
    {
     "name": "stdout",
     "output_type": "stream",
     "text": [
      "El número de iteraciones fue: 3\n",
      "Usando x inicial: 1.0000\n",
      "Usando y inicial: 2.0000\n",
      "x final es: 1.0120\n",
      "y final es: 1.7251\n"
     ]
    }
   ],
   "source": [
    "exactitud = 10e-4\n",
    "iteraciones = 0\n",
    "norma_dos = 1\n",
    "x0 = 1 #x inicial\n",
    "y0 = 2 #y inicial\n",
    "X0 = sp.Matrix([x0, y0]) #x e y\n",
    "F = sp.Matrix([f,g]) #matrix F(x,y) no evaluada\n",
    "J_inverse = F.jacobian([x,y]).inv() #matrix jacobiana inversa no evaluada\n",
    "F_xy_0 = sp.Matrix([f.evalf(subs={x: x0, y: y0}),\n",
    "                g.evalf(subs={x: x0, y: y0})]) #matrix F(x,y) evaluada en X0]\n",
    "list_X = [sp.N(X0, 5)]\n",
    "list_F = [sp.N(F_xy_0, 5)]\n",
    "\n",
    "while norma_dos >= exactitud:\n",
    "    iteraciones += 1\n",
    "    J_inverse_xy_0 = J_inverse.evalf(subs={x: x0, y: y0}) #matrix jacobiana inversa evaluada en X0\n",
    "\n",
    "    X1 = list_X[-1] - J_inverse_xy_0*list_F[-1]\n",
    "    x1 = X1[0]\n",
    "    y1 = X1[1]\n",
    "    F_xy_1 = F.evalf(subs={x: x1, y: y1}) #matrix F(x,y) evaluada en X1\n",
    "    \n",
    "    norma_dos = sp.N(( F_xy_1[0]**2 + F_xy_1[1]**2 )**(1/2), 5)\n",
    "    list_X.append(sp.N(X1,5))\n",
    "    list_F.append(sp.N(F_xy_1, 5))\n",
    "    x0 = x1 #new x\n",
    "    y0 = y1 #new y\n",
    "\n",
    "print('El número de iteraciones fue: ' + str(iteraciones))\n",
    "print('Usando x inicial: ' + str(list_X[0][0]))\n",
    "print('Usando y inicial: ' + str(list_X[0][1]))\n",
    "print('x final es: ' + str(list_X[-1][0]))\n",
    "print('y final es: ' + str(list_X[-1][1]))"
   ]
  },
  {
   "cell_type": "markdown",
   "id": "456f32ea",
   "metadata": {},
   "source": [
    "Vemos que la tercera intersección esta cerca de x = -2 . y y = -1."
   ]
  },
  {
   "cell_type": "code",
   "execution_count": 18,
   "id": "a15d6fa9",
   "metadata": {},
   "outputs": [
    {
     "name": "stdout",
     "output_type": "stream",
     "text": [
      "El número de iteraciones fue: 4\n",
      "Usando x inicial: -2.0000\n",
      "Usando y inicial: -1.0000\n",
      "x final es: -1.9239\n",
      "y final es: -0.54660\n"
     ]
    }
   ],
   "source": [
    "exactitud = 10e-4\n",
    "iteraciones = 0\n",
    "norma_dos = 1\n",
    "x0 = -2 #x inicial\n",
    "y0 = -1 #y inicial\n",
    "X0 = sp.Matrix([x0, y0]) #x e y\n",
    "F = sp.Matrix([f,g]) #matrix F(x,y) no evaluada\n",
    "J_inverse = F.jacobian([x,y]).inv() #matrix jacobiana inversa no evaluada\n",
    "F_xy_0 = sp.Matrix([f.evalf(subs={x: x0, y: y0}),\n",
    "                g.evalf(subs={x: x0, y: y0})]) #matrix F(x,y) evaluada en X0]\n",
    "list_X = [sp.N(X0, 5)]\n",
    "list_F = [sp.N(F_xy_0, 5)]\n",
    "\n",
    "while norma_dos >= exactitud:\n",
    "    iteraciones += 1\n",
    "    J_inverse_xy_0 = J_inverse.evalf(subs={x: x0, y: y0}) #matrix jacobiana inversa evaluada en X0\n",
    "\n",
    "    X1 = list_X[-1] - J_inverse_xy_0*list_F[-1]\n",
    "    x1 = X1[0]\n",
    "    y1 = X1[1]\n",
    "    F_xy_1 = F.evalf(subs={x: x1, y: y1}) #matrix F(x,y) evaluada en X1\n",
    "    \n",
    "    norma_dos = sp.N(( F_xy_1[0]**2 + F_xy_1[1]**2 )**(1/2), 5)\n",
    "    list_X.append(sp.N(X1,5))\n",
    "    list_F.append(sp.N(F_xy_1, 5))\n",
    "    x0 = x1 #new x\n",
    "    y0 = y1 #new y\n",
    "\n",
    "print('El número de iteraciones fue: ' + str(iteraciones))\n",
    "print('Usando x inicial: ' + str(list_X[0][0]))\n",
    "print('Usando y inicial: ' + str(list_X[0][1]))\n",
    "print('x final es: ' + str(list_X[-1][0]))\n",
    "print('y final es: ' + str(list_X[-1][1]))"
   ]
  },
  {
   "cell_type": "markdown",
   "id": "a958d525",
   "metadata": {},
   "source": [
    "Vemos que la cuarta intersección esta cerca de x = -1 . y y = -2.5."
   ]
  },
  {
   "cell_type": "code",
   "execution_count": 19,
   "id": "87422bb4",
   "metadata": {
    "scrolled": true
   },
   "outputs": [
    {
     "name": "stdout",
     "output_type": "stream",
     "text": [
      "El número de iteraciones fue: 3\n",
      "Usando x inicial: -1.0000\n",
      "Usando y inicial: -2.5000\n",
      "x final es: -1.0119\n",
      "y final es: -1.7252\n"
     ]
    }
   ],
   "source": [
    "exactitud = 10e-4\n",
    "iteraciones = 0\n",
    "norma_dos = 1\n",
    "x0 = -1 #x inicial\n",
    "y0 = -2.5 #y inicial\n",
    "X0 = sp.Matrix([x0, y0]) #x e y\n",
    "F = sp.Matrix([f,g]) #matrix F(x,y) no evaluada\n",
    "J_inverse = F.jacobian([x,y]).inv() #matrix jacobiana inversa no evaluada\n",
    "F_xy_0 = sp.Matrix([f.evalf(subs={x: x0, y: y0}),\n",
    "                g.evalf(subs={x: x0, y: y0})]) #matrix F(x,y) evaluada en X0]\n",
    "list_X = [sp.N(X0, 5)]\n",
    "list_F = [sp.N(F_xy_0, 5)]\n",
    "\n",
    "while norma_dos >= exactitud:\n",
    "    iteraciones += 1\n",
    "    J_inverse_xy_0 = J_inverse.evalf(subs={x: x0, y: y0}) #matrix jacobiana inversa evaluada en X0\n",
    "\n",
    "    X1 = list_X[-1] - J_inverse_xy_0*list_F[-1]\n",
    "    x1 = X1[0]\n",
    "    y1 = X1[1]\n",
    "    F_xy_1 = F.evalf(subs={x: x1, y: y1}) #matrix F(x,y) evaluada en X1\n",
    "    \n",
    "    norma_dos = sp.N(( F_xy_1[0]**2 + F_xy_1[1]**2 )**(1/2), 5)\n",
    "    list_X.append(sp.N(X1,5))\n",
    "    list_F.append(sp.N(F_xy_1, 5))\n",
    "    x0 = x1 #new x\n",
    "    y0 = y1 #new y\n",
    "\n",
    "print('El número de iteraciones fue: ' + str(iteraciones))\n",
    "print('Usando x inicial: ' + str(list_X[0][0]))\n",
    "print('Usando y inicial: ' + str(list_X[0][1]))\n",
    "print('x final es: ' + str(list_X[-1][0]))\n",
    "print('y final es: ' + str(list_X[-1][1]))"
   ]
  },
  {
   "cell_type": "markdown",
   "id": "9683aaae",
   "metadata": {},
   "source": [
    "### Par de funciones 4:\n",
    "$$ f(x , y) = y^2ln(x) - 3 $$\n",
    "$$ g(x , y) = y - x^2 $$"
   ]
  },
  {
   "cell_type": "code",
   "execution_count": 20,
   "id": "e5593dce",
   "metadata": {},
   "outputs": [
    {
     "data": {
      "image/png": "[encoded data removed]",
      "text/latex": [
       "$\\displaystyle y^{2} \\log{\\left(x \\right)} - 3$"
      ],
      "text/plain": [
       " 2           \n",
       "y ⋅log(x) - 3"
      ]
     },
     "execution_count": 20,
     "metadata": {},
     "output_type": "execute_result"
    }
   ],
   "source": [
    "#asignar funcion f(x,y) y asegurar que esta correcta\n",
    "f =y**2*sp.log(x) - 3\n",
    "f"
   ]
  },
  {
   "cell_type": "code",
   "execution_count": 21,
   "id": "1a0ff6ed",
   "metadata": {},
   "outputs": [
    {
     "data": {
      "image/png": "[encoded data removed]",
      "text/latex": [
       "$\\displaystyle - x^{2} + y$"
      ],
      "text/plain": [
       "   2    \n",
       "- x  + y"
      ]
     },
     "execution_count": 21,
     "metadata": {},
     "output_type": "execute_result"
    }
   ],
   "source": [
    "#asignar funcion g(x,y) y asegurar que esta correcta\n",
    "g = y-x**2\n",
    "g"
   ]
  },
  {
   "cell_type": "code",
   "execution_count": 22,
   "id": "c5b69edd",
   "metadata": {
    "tags": [
     "remove-input"
    ]
   },
   "outputs": [
    {
     "data": {
      "image/png": "[encoded data removed]",
      "text/plain": [
       "<Figure size 640x480 with 1 Axes>"
      ]
     },
     "metadata": {},
     "output_type": "display_data"
    }
   ],
   "source": [
    "# grafica de f y g\n",
    "plot_f = sp.plot_implicit(sp.Eq(f,0), x_var=(x, -20, 20), y_var=(y, -20,20), show=False)\n",
    "plot_g = sp.plot_implicit(sp.Eq(g,0), x_var=(x, -20, 20), y_var=(y, -20,20), show=False)\n",
    "plot_f.append(plot_g[0])\n",
    "plot_f.show()"
   ]
  },
  {
   "cell_type": "markdown",
   "id": "616d555c",
   "metadata": {},
   "source": [
    "Vemos que la cuarta intersección esta cerca de x = 1 . y y = 2.5."
   ]
  },
  {
   "cell_type": "code",
   "execution_count": 23,
   "id": "217b73e7",
   "metadata": {},
   "outputs": [
    {
     "name": "stdout",
     "output_type": "stream",
     "text": [
      "El número de iteraciones fue: 4\n",
      "Usando x inicial: 1.0000\n",
      "Usando y inicial: 2.5000\n",
      "x final es: 1.5931\n",
      "y final es: 2.5381\n"
     ]
    }
   ],
   "source": [
    "exactitud = 10e-4\n",
    "iteraciones = 0\n",
    "norma_dos = 1\n",
    "x0 = 1 #x inicial\n",
    "y0 = 2.5 #y inicial\n",
    "X0 = sp.Matrix([x0, y0]) #x e y\n",
    "F = sp.Matrix([f,g]) #matrix F(x,y) no evaluada\n",
    "J_inverse = F.jacobian([x,y]).inv() #matrix jacobiana inversa no evaluada\n",
    "F_xy_0 = sp.Matrix([f.evalf(subs={x: x0, y: y0}),\n",
    "                g.evalf(subs={x: x0, y: y0})]) #matrix F(x,y) evaluada en X0]\n",
    "list_X = [sp.N(X0, 5)]\n",
    "list_F = [sp.N(F_xy_0, 5)]\n",
    "\n",
    "while norma_dos >= exactitud:\n",
    "    iteraciones += 1\n",
    "    J_inverse_xy_0 = J_inverse.evalf(subs={x: x0, y: y0}) #matrix jacobiana inversa evaluada en X0\n",
    "\n",
    "    X1 = list_X[-1] - J_inverse_xy_0*list_F[-1]\n",
    "    x1 = X1[0]\n",
    "    y1 = X1[1]\n",
    "    F_xy_1 = F.evalf(subs={x: x1, y: y1}) #matrix F(x,y) evaluada en X1\n",
    "    \n",
    "    norma_dos = sp.N(( F_xy_1[0]**2 + F_xy_1[1]**2 )**(1/2), 5)\n",
    "    list_X.append(sp.N(X1,5))\n",
    "    list_F.append(sp.N(F_xy_1, 5))\n",
    "    x0 = x1 #new x\n",
    "    y0 = y1 #new y\n",
    "\n",
    "print('El número de iteraciones fue: ' + str(iteraciones))\n",
    "print('Usando x inicial: ' + str(list_X[0][0]))\n",
    "print('Usando y inicial: ' + str(list_X[0][1]))\n",
    "print('x final es: ' + str(list_X[-1][0]))\n",
    "print('y final es: ' + str(list_X[-1][1]))"
   ]
  },
  {
   "cell_type": "markdown",
   "id": "c593bd1b",
   "metadata": {},
   "source": [
    "### Trío de funciones 4:\n",
    "$$ f(x , y, z) = x+y-z+2 $$\n",
    "$$ g(x , y, z) = x^2+y $$\n",
    "$$ h(x , y, z) = z-y^2-1 $$"
   ]
  },
  {
   "cell_type": "code",
   "execution_count": 24,
   "id": "7911b335",
   "metadata": {},
   "outputs": [
    {
     "data": {
      "image/png": "[encoded data removed]",
      "text/latex": [
       "$\\displaystyle x + y - z + 2$"
      ],
      "text/plain": [
       "x + y - z + 2"
      ]
     },
     "execution_count": 24,
     "metadata": {},
     "output_type": "execute_result"
    }
   ],
   "source": [
    "x, y, z = sp.symbols('x y z')\n",
    "#asignar funcion f(x,y) y asegurar que esta correcta\n",
    "f =x+y+2-z\n",
    "f"
   ]
  },
  {
   "cell_type": "code",
   "execution_count": 25,
   "id": "51bab435",
   "metadata": {},
   "outputs": [
    {
     "data": {
      "image/png": "[encoded data removed]",
      "text/latex": [
       "$\\displaystyle x^{2} + y$"
      ],
      "text/plain": [
       " 2    \n",
       "x  + y"
      ]
     },
     "execution_count": 25,
     "metadata": {},
     "output_type": "execute_result"
    }
   ],
   "source": [
    "#asignar funcion f(x,y) y asegurar que esta correcta\n",
    "g = x**2+y\n",
    "g"
   ]
  },
  {
   "cell_type": "code",
   "execution_count": 26,
   "id": "8352bbf5",
   "metadata": {},
   "outputs": [
    {
     "data": {
      "image/png": "[encoded data removed]",
      "text/latex": [
       "$\\displaystyle - y^{2} + z - 1$"
      ],
      "text/plain": [
       "   2        \n",
       "- y  + z - 1"
      ]
     },
     "execution_count": 26,
     "metadata": {},
     "output_type": "execute_result"
    }
   ],
   "source": [
    "#asignar funcion f(x,y) y asegurar que esta correcta\n",
    "h = -y**2-1 +z\n",
    "h"
   ]
  },
  {
   "cell_type": "markdown",
   "id": "00165825",
   "metadata": {},
   "source": [
    "Porque son tres variables independientes no es posible graficar. Buscaremos por 6 combinaciones de valores iniciales."
   ]
  },
  {
   "cell_type": "code",
   "execution_count": 27,
   "id": "ad5d2e09",
   "metadata": {},
   "outputs": [
    {
     "name": "stdout",
     "output_type": "stream",
     "text": [
      "El número de iteraciones fue: 44\n",
      "Usando x inicial: 1.0000\n",
      "Usando y inicial: 1.0000\n",
      "Usando z inicial: 1.0000\n",
      "x final es: -0.57013\n",
      "y final es: -0.32455\n",
      "z final es: 1.1053\n"
     ]
    }
   ],
   "source": [
    "exactitud = 10e-4\n",
    "iteraciones = 0\n",
    "norma_dos = 1\n",
    "x0 = 1 #x inicial\n",
    "y0 = 1 #y inicial\n",
    "z0 = 1 #z inicial\n",
    "X0 = sp.Matrix([x0, y0, z0]) #x e y\n",
    "F = sp.Matrix([f,g,h]) #matrix F(x,y) no evaluada\n",
    "J_inverse = F.jacobian([x,y,z]).inv() #matrix jacobiana inversa no evaluada\n",
    "F_xy_0 = sp.Matrix([f.evalf(subs={x: x0, y: y0, z: z0}),\n",
    "                    g.evalf(subs={x: x0, y: y0, z: z0}),\n",
    "                   h.evalf(subs={x: x0, y: y0, z: z0})]) #matrix F(x,y) evaluada en X0]\n",
    "list_X = [sp.N(X0, 5)]\n",
    "list_F = [sp.N(F_xy_0, 5)]\n",
    "\n",
    "while norma_dos >= exactitud:\n",
    "    iteraciones += 1\n",
    "    J_inverse_xy_0 = J_inverse.evalf(subs={x: x0, y: y0, z: z0}) #matrix jacobiana inversa evaluada en X0\n",
    "\n",
    "    X1 = list_X[-1] - J_inverse_xy_0*list_F[-1]\n",
    "    x1 = X1[0]\n",
    "    y1 = X1[1]\n",
    "    z1 = X1[2]\n",
    "    F_xy_1 = F.evalf(subs={x: x1, y: y1, z: z1}) #matrix F(x,y) evaluada en X1\n",
    "    \n",
    "    norma_dos = sp.N(( F_xy_1[0]**2 + F_xy_1[1]**2 + F_xy_1[2]**2 )**(1/2), 5)\n",
    "    list_X.append(sp.N(X1,5))\n",
    "    list_F.append(sp.N(F_xy_1, 5))\n",
    "    x0 = x1 #new x\n",
    "    y0 = y1 #new y\n",
    "    z0 = z1 #new x\n",
    "\n",
    "print('El número de iteraciones fue: ' + str(iteraciones))\n",
    "print('Usando x inicial: ' + str(list_X[0][0]))\n",
    "print('Usando y inicial: ' + str(list_X[0][1]))\n",
    "print('Usando z inicial: ' + str(list_X[0][2]))\n",
    "print('x final es: ' + str(list_X[-1][0]))\n",
    "print('y final es: ' + str(list_X[-1][1]))\n",
    "print('z final es: ' + str(list_X[-1][2]))"
   ]
  },
  {
   "cell_type": "markdown",
   "id": "345bdc95",
   "metadata": {},
   "source": [
    "Después de buscar con varias combinaciones de valores todos parecen retornar el mismo resultado. Concluimos que la única solución es la mostrada arriba."
   ]
  }
 ],
 "metadata": {
  "kernelspec": {
   "display_name": "Python 3",
   "language": "python",
   "name": "python3"
  },
  "language_info": {
   "codemirror_mode": {
    "name": "ipython",
    "version": 3
   },
   "file_extension": ".py",
   "mimetype": "text/x-python",
   "name": "python",
   "nbconvert_exporter": "python",
   "pygments_lexer": "ipython3",
   "version": "3.8.8"
  }
 },
 "nbformat": 4,
 "nbformat_minor": 5
}
